{
 "cells": [
  {
   "cell_type": "markdown",
   "metadata": {},
   "source": [
    "## Assignment 8B: Model Evaluation"
   ]
  },
  {
   "cell_type": "code",
   "execution_count": 1,
   "metadata": {},
   "outputs": [],
   "source": [
    "%matplotlib inline\n",
    "import numpy as np\n",
    "import pandas as pd\n",
    "from sklearn import preprocessing\n",
    "from sklearn import tree\n",
    "from sklearn.metrics import average_precision_score\n",
    "from itertools import cycle\n",
    "from sklearn.metrics import precision_recall_curve\n",
    "import matplotlib.pyplot as plt\n",
    "import pydotplus as pdy\n",
    "from IPython.display import Image\n",
    "import warnings\n",
    "warnings.filterwarnings(\"ignore\")\n",
    "from sklearn.metrics import confusion_matrix, roc_curve, auc\n",
    "from sklearn.model_selection import train_test_split\n",
    "from sklearn.metrics import classification_report\n",
    "from sklearn.metrics import accuracy_score, precision_score, recall_score"
   ]
  },
  {
   "cell_type": "code",
   "execution_count": 2,
   "metadata": {},
   "outputs": [],
   "source": [
    "fileURL = 'http://archive.ics.uci.edu/ml/machine-learning-databases/car/car.data'\n",
    "nms = ['Buying','Maintenance','Doors','Persons','Lug_Boot','Safety','Acceptability']\n",
    "carEve = pd.read_csv(fileURL, names = nms, header = None)\n",
    "yPlot = carEve['Acceptability'].as_matrix()\n",
    "clss = ['unacc', 'acc', 'good', 'vgood']\n",
    "yPlot = preprocessing.label_binarize(yPlot, classes = clss)\n",
    "nDiv = yPlot.shape[1]"
   ]
  },
  {
   "cell_type": "code",
   "execution_count": 3,
   "metadata": {},
   "outputs": [],
   "source": [
    "lbEn = preprocessing.LabelEncoder()\n",
    "xPlot = carEve.ix[:,0:6].as_matrix()\n",
    "xPlot1 = lbEn.fit_transform(xPlot[0])\n",
    "for i in xPlot[1:]:\n",
    "    xPlot1 = np.vstack([xPlot1, lbEn.fit_transform(i)])\n",
    "\n",
    "clmn = ['Buying', 'Maintainence', 'Doors', 'Persons', 'Lug_Boots', 'Safety']\n",
    "frame_data = pd.DataFrame(xPlot1, columns = clmn)    "
   ]
  },
  {
   "cell_type": "markdown",
   "metadata": {},
   "source": [
    "### Splitting data into training and testing"
   ]
  },
  {
   "cell_type": "code",
   "execution_count": 4,
   "metadata": {},
   "outputs": [],
   "source": [
    "xTrain, xTest, yTrain, yTest = train_test_split(xPlot1, yPlot, test_size = .5)\n",
    "classfr = tree.DecisionTreeClassifier()\n",
    "classfr = classfr.fit(xTrain, yTrain)"
   ]
  },
  {
   "cell_type": "markdown",
   "metadata": {},
   "source": [
    "### 1. The accuracy of your model on the test data"
   ]
  },
  {
   "cell_type": "markdown",
   "metadata": {},
   "source": [
    "First we predict xTest and find the accuracy of both the values, that is predicted and true values. We compare these two values to get the accuracy of the model."
   ]
  },
  {
   "cell_type": "code",
   "execution_count": 5,
   "metadata": {},
   "outputs": [
    {
     "data": {
      "text/plain": [
       "0.6458333333333334"
      ]
     },
     "execution_count": 5,
     "metadata": {},
     "output_type": "execute_result"
    }
   ],
   "source": [
    "xPred = classfr.predict(xTest)\n",
    "accuracy_score(yTest, xPred)"
   ]
  },
  {
   "cell_type": "markdown",
   "metadata": {},
   "source": [
    "### 2. The precision and recall values"
   ]
  },
  {
   "cell_type": "markdown",
   "metadata": {},
   "source": [
    "We calculate the precision value by getting the ratio of true positives and sum of true positives and false positives. As the value of false positives decreases, precision value increases."
   ]
  },
  {
   "cell_type": "code",
   "execution_count": 6,
   "metadata": {},
   "outputs": [
    {
     "name": "stdout",
     "output_type": "stream",
     "text": [
      "Precision: \n",
      "0.7303664921465969\n"
     ]
    }
   ],
   "source": [
    "print(\"Precision: \")\n",
    "print(precision_score(np.hstack(yTest), np.hstack(xPred)))"
   ]
  },
  {
   "cell_type": "markdown",
   "metadata": {},
   "source": [
    "We calculate the recall value by getting the ratio of true positives and sum of true positives and false negatives. As the value of false negatives decreases, recall value increases."
   ]
  },
  {
   "cell_type": "code",
   "execution_count": 7,
   "metadata": {},
   "outputs": [
    {
     "name": "stdout",
     "output_type": "stream",
     "text": [
      "Recall: \n",
      "0.6458333333333334\n"
     ]
    }
   ],
   "source": [
    "print(\"Recall: \")\n",
    "print(recall_score(np.hstack(yTest), np.hstack(xPred)))"
   ]
  },
  {
   "cell_type": "markdown",
   "metadata": {},
   "source": [
    "### 3.  A classification report"
   ]
  },
  {
   "cell_type": "markdown",
   "metadata": {},
   "source": [
    "There are four classes in this dataset, namely unacc, acc, good and vgood. The classification report will have precision, recall, f1-score and support information related to these classes. Since we have manipulated the data and forced it to be binary, there is a shift in the average precision value. "
   ]
  },
  {
   "cell_type": "code",
   "execution_count": 8,
   "metadata": {},
   "outputs": [
    {
     "name": "stdout",
     "output_type": "stream",
     "text": [
      "             precision    recall  f1-score   support\n",
      "\n",
      "      unacc       0.79      0.82      0.81       597\n",
      "        acc       0.51      0.26      0.34       205\n",
      "       good       0.25      0.18      0.21        38\n",
      "      vgood       0.56      0.42      0.48        24\n",
      "\n",
      "avg / total       0.70      0.65      0.66       864\n",
      "\n"
     ]
    }
   ],
   "source": [
    "print(classification_report(yTest, xPred, target_names=['unacc', 'acc', 'good', 'vgood']))"
   ]
  },
  {
   "cell_type": "markdown",
   "metadata": {},
   "source": [
    "### 4. The confusion matrix for this experiment"
   ]
  },
  {
   "cell_type": "code",
   "execution_count": 9,
   "metadata": {},
   "outputs": [
    {
     "data": {
      "text/plain": [
       "array([[2386,  206],\n",
       "       [ 306,  558]], dtype=int64)"
      ]
     },
     "execution_count": 9,
     "metadata": {},
     "output_type": "execute_result"
    }
   ],
   "source": [
    "confusion_matrix(np.hstack(yTest), np.hstack(xPred))"
   ]
  },
  {
   "cell_type": "markdown",
   "metadata": {},
   "source": [
    "### 5. An ROC curve"
   ]
  },
  {
   "cell_type": "code",
   "execution_count": 10,
   "metadata": {},
   "outputs": [],
   "source": [
    "yScore = classfr.predict(xTest)\n",
    "dict1 = dict()\n",
    "dict2 = dict()\n",
    "dict3 = dict()\n",
    "for i in range(nDiv):\n",
    "    dict1[i], dict2[i], _ = roc_curve(yTest[:, i], yScore[:, i])\n",
    "    dict3[i] = auc(dict1[i], dict2[i])\n",
    "dict1[\"binary\"], dict2[\"binary\"], _ = roc_curve(yTest.ravel(), yScore.ravel())\n",
    "dict3[\"binary\"] = auc(dict1[\"binary\"], dict2[\"binary\"])"
   ]
  },
  {
   "cell_type": "markdown",
   "metadata": {},
   "source": [
    "Plotting the ROC curve"
   ]
  },
  {
   "cell_type": "code",
   "execution_count": 11,
   "metadata": {},
   "outputs": [
    {
     "data": {
      "image/png": "[encoded data removed]",
      "text/plain": [
       "<Figure size 432x288 with 1 Axes>"
      ]
     },
     "metadata": {
      "needs_background": "light"
     },
     "output_type": "display_data"
    }
   ],
   "source": [
    "plt.plot(dict1[2], dict2[2])\n",
    "plt.title('Receiver operating characteristic')\n",
    "plt.xlabel('False Positive Rate')\n",
    "plt.ylabel('True Positive Rate')\n",
    "plt.show()"
   ]
  },
  {
   "cell_type": "markdown",
   "metadata": {},
   "source": [
    "### 6. A Precision/Recall curve"
   ]
  },
  {
   "cell_type": "code",
   "execution_count": 12,
   "metadata": {},
   "outputs": [],
   "source": [
    "yScore = classfr.predict(xTest)\n",
    "recall = dict()\n",
    "precision = dict()\n",
    "for i in range(nDiv):\n",
    "    precision[i], recall[i], _ = precision_recall_curve(yTest[:, i], yScore[:, i])"
   ]
  },
  {
   "cell_type": "markdown",
   "metadata": {},
   "source": [
    "Plotting the precision and recall curve"
   ]
  },
  {
   "cell_type": "code",
   "execution_count": 13,
   "metadata": {},
   "outputs": [
    {
     "data": {
      "image/png": "[encoded data removed]",
      "text/plain": [
       "<Figure size 432x288 with 1 Axes>"
      ]
     },
     "metadata": {
      "needs_background": "light"
     },
     "output_type": "display_data"
    }
   ],
   "source": [
    "plt.clf()\n",
    "plt.plot(recall[0], precision[0])\n",
    "plt.title('Precision-Recall Curve')\n",
    "plt.xlabel('Recall')\n",
    "plt.ylabel('Precision')\n",
    "plt.xlim([0.0, 1.0])\n",
    "plt.ylim([0.0, 1.05])\n",
    "plt.show()"
   ]
  },
  {
   "cell_type": "markdown",
   "metadata": {},
   "source": [
    "We can categorize a model into 3 types, worse, better and ideal. A model that has low precision and high recall can be categorized as worse. A model that has high precision and low recall can be categorized as better. A model that has high precision and high recall can be categorized as ideal. From the above graph we can see that this model not an ideal model."
   ]
  },
  {
   "cell_type": "code",
   "execution_count": null,
   "metadata": {},
   "outputs": [],
   "source": []
  }
 ],
 "metadata": {
  "kernelspec": {
   "display_name": "Python 3",
   "language": "python",
   "name": "python3"
  },
  "language_info": {
   "codemirror_mode": {
    "name": "ipython",
    "version": 3
   },
   "file_extension": ".py",
   "mimetype": "text/x-python",
   "name": "python",
   "nbconvert_exporter": "python",
   "pygments_lexer": "ipython3",
   "version": "3.7.0"
  }
 },
 "nbformat": 4,
 "nbformat_minor": 2
}
